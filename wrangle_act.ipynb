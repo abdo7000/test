{
 "cells": [
  {
   "cell_type": "markdown",
   "metadata": {},
   "source": [
    "# Data wrangling project "
   ]
  },
  {
   "cell_type": "markdown",
   "metadata": {},
   "source": [
    "By Abdelrahman A ESMAT"
   ]
  },
  {
   "cell_type": "markdown",
   "metadata": {},
   "source": [
    "# importing packages "
   ]
  },
  {
   "cell_type": "code",
   "execution_count": 282,
   "metadata": {},
   "outputs": [],
   "source": [
    "import requests as rq\n",
    "import pandas as pd \n",
    "import json \n",
    "import tweepy\n",
    "import os\n",
    "import matplotlib\n",
    "import matplotlib.pyplot as plt\n",
    "from matplotlib.pyplot import figure\n",
    "import numpy as np\n",
    "from scipy import stats\n",
    "%matplotlib inline"
   ]
  },
  {
   "cell_type": "markdown",
   "metadata": {},
   "source": [
    "# data gathering \n",
    "In the next few cells we begin our data gathering process "
   ]
  },
  {
   "cell_type": "code",
   "execution_count": null,
   "metadata": {},
   "outputs": [],
   "source": []
  },
  {
   "cell_type": "markdown",
   "metadata": {},
   "source": [
    "## Loading on hand files "
   ]
  },
  {
   "cell_type": "markdown",
   "metadata": {},
   "source": [
    "To load files on hand we will use read_csv command"
   ]
  },
  {
   "cell_type": "code",
   "execution_count": 283,
   "metadata": {},
   "outputs": [],
   "source": [
    "arch=pd.read_csv(\"twitter-archive-enhanced.csv\")"
   ]
  },
  {
   "cell_type": "markdown",
   "metadata": {},
   "source": [
    "## Downloading and loading files programmatically"
   ]
  },
  {
   "cell_type": "markdown",
   "metadata": {},
   "source": [
    "Now we use request library to programmatically download the prediction data set"
   ]
  },
  {
   "cell_type": "code",
   "execution_count": 284,
   "metadata": {},
   "outputs": [],
   "source": [
    "r=rq.get(\" https://d17h27t6h515a5.cloudfront.net/topher/2017/August/599fd2ad_image-predictions/image-predictions.tsv\")\n",
    "if not os.path.isfile(\"image_predictions.tsv\"):    \n",
    "    with open (\"image_predictions.tsv\",\"wb\") as f:\n",
    "        f.write(r.content)\n",
    "prd = pd.read_csv(\"image_predictions.tsv\",sep=\"\\t\")"
   ]
  },
  {
   "cell_type": "markdown",
   "metadata": {},
   "source": [
    "## Loading information from the JSON file"
   ]
  },
  {
   "cell_type": "markdown",
   "metadata": {},
   "source": [
    "In the next few cells we will load information from the JSON file into a dataframe for later use ,  using the json library and with statement"
   ]
  },
  {
   "cell_type": "code",
   "execution_count": 285,
   "metadata": {},
   "outputs": [],
   "source": [
    "rates=pd.DataFrame(columns=['ID','retweets','like','followers'])\n",
    "rate={'ID':0,'retweets':0,'like':0,'followers':0}"
   ]
  },
  {
   "cell_type": "code",
   "execution_count": 286,
   "metadata": {},
   "outputs": [],
   "source": [
    "with open(\"tweet-json.txt\") as f:\n",
    "    for line in f.readlines():\n",
    "        data = json.loads(line)\n",
    "        rate['ID']=data['id']\n",
    "        rate['retweets']=data['retweet_count']\n",
    "        rate['like']=data['favorite_count']\n",
    "        rate['followers']=data['user']['followers_count']\n",
    "        rates=rates.append(rate,ignore_index=True)"
   ]
  },
  {
   "cell_type": "markdown",
   "metadata": {},
   "source": [
    "# Data Assessing"
   ]
  },
  {
   "cell_type": "markdown",
   "metadata": {},
   "source": [
    "## Data completness "
   ]
  },
  {
   "cell_type": "markdown",
   "metadata": {},
   "source": [
    "First we search for completness issue , including duplicates and missing data "
   ]
  },
  {
   "cell_type": "code",
   "execution_count": 287,
   "metadata": {},
   "outputs": [
    {
     "name": "stdout",
     "output_type": "stream",
     "text": [
      "<class 'pandas.core.frame.DataFrame'>\n",
      "RangeIndex: 2356 entries, 0 to 2355\n",
      "Data columns (total 17 columns):\n",
      " #   Column                      Non-Null Count  Dtype  \n",
      "---  ------                      --------------  -----  \n",
      " 0   tweet_id                    2356 non-null   int64  \n",
      " 1   in_reply_to_status_id       78 non-null     float64\n",
      " 2   in_reply_to_user_id         78 non-null     float64\n",
      " 3   timestamp                   2356 non-null   object \n",
      " 4   source                      2356 non-null   object \n",
      " 5   text                        2356 non-null   object \n",
      " 6   retweeted_status_id         181 non-null    float64\n",
      " 7   retweeted_status_user_id    181 non-null    float64\n",
      " 8   retweeted_status_timestamp  181 non-null    object \n",
      " 9   expanded_urls               2297 non-null   object \n",
      " 10  rating_numerator            2356 non-null   int64  \n",
      " 11  rating_denominator          2356 non-null   int64  \n",
      " 12  name                        2356 non-null   object \n",
      " 13  doggo                       2356 non-null   object \n",
      " 14  floofer                     2356 non-null   object \n",
      " 15  pupper                      2356 non-null   object \n",
      " 16  puppo                       2356 non-null   object \n",
      "dtypes: float64(4), int64(3), object(10)\n",
      "memory usage: 313.0+ KB\n"
     ]
    }
   ],
   "source": [
    "arch.info()"
   ]
  },
  {
   "cell_type": "markdown",
   "metadata": {},
   "source": [
    "Our first problem presents itself, there are 2356 tweet but there are only 2297 expanded urls, there are 59 urls missing "
   ]
  },
  {
   "cell_type": "code",
   "execution_count": 288,
   "metadata": {},
   "outputs": [
    {
     "name": "stdout",
     "output_type": "stream",
     "text": [
      "<class 'pandas.core.frame.DataFrame'>\n",
      "RangeIndex: 2075 entries, 0 to 2074\n",
      "Data columns (total 12 columns):\n",
      " #   Column    Non-Null Count  Dtype  \n",
      "---  ------    --------------  -----  \n",
      " 0   tweet_id  2075 non-null   int64  \n",
      " 1   jpg_url   2075 non-null   object \n",
      " 2   img_num   2075 non-null   int64  \n",
      " 3   p1        2075 non-null   object \n",
      " 4   p1_conf   2075 non-null   float64\n",
      " 5   p1_dog    2075 non-null   bool   \n",
      " 6   p2        2075 non-null   object \n",
      " 7   p2_conf   2075 non-null   float64\n",
      " 8   p2_dog    2075 non-null   bool   \n",
      " 9   p3        2075 non-null   object \n",
      " 10  p3_conf   2075 non-null   float64\n",
      " 11  p3_dog    2075 non-null   bool   \n",
      "dtypes: bool(3), float64(3), int64(2), object(4)\n",
      "memory usage: 152.1+ KB\n"
     ]
    }
   ],
   "source": [
    "prd.info()"
   ]
  },
  {
   "cell_type": "markdown",
   "metadata": {},
   "source": [
    "our second problem is there are 2356 tweets in the enhanced archives but only 2075 tweets in the prediction dataframe , there are 281 tweets missing"
   ]
  },
  {
   "cell_type": "markdown",
   "metadata": {},
   "source": [
    "Now it's time for a visual assessement "
   ]
  },
  {
   "cell_type": "code",
   "execution_count": 289,
   "metadata": {
    "scrolled": true
   },
   "outputs": [
    {
     "data": {
      "text/html": [
       "<div>\n",
       "<style scoped>\n",
       "    .dataframe tbody tr th:only-of-type {\n",
       "        vertical-align: middle;\n",
       "    }\n",
       "\n",
       "    .dataframe tbody tr th {\n",
       "        vertical-align: top;\n",
       "    }\n",
       "\n",
       "    .dataframe thead th {\n",
       "        text-align: right;\n",
       "    }\n",
       "</style>\n",
       "<table border=\"1\" class=\"dataframe\">\n",
       "  <thead>\n",
       "    <tr style=\"text-align: right;\">\n",
       "      <th></th>\n",
       "      <th>tweet_id</th>\n",
       "      <th>in_reply_to_status_id</th>\n",
       "      <th>in_reply_to_user_id</th>\n",
       "      <th>timestamp</th>\n",
       "      <th>source</th>\n",
       "      <th>text</th>\n",
       "      <th>retweeted_status_id</th>\n",
       "      <th>retweeted_status_user_id</th>\n",
       "      <th>retweeted_status_timestamp</th>\n",
       "      <th>expanded_urls</th>\n",
       "      <th>rating_numerator</th>\n",
       "      <th>rating_denominator</th>\n",
       "      <th>name</th>\n",
       "      <th>doggo</th>\n",
       "      <th>floofer</th>\n",
       "      <th>pupper</th>\n",
       "      <th>puppo</th>\n",
       "    </tr>\n",
       "  </thead>\n",
       "  <tbody>\n",
       "    <tr>\n",
       "      <th>207</th>\n",
       "      <td>852553447878664193</td>\n",
       "      <td>NaN</td>\n",
       "      <td>NaN</td>\n",
       "      <td>2017-04-13 16:05:56 +0000</td>\n",
       "      <td>&lt;a href=\"http://twitter.com/download/iphone\" r...</td>\n",
       "      <td>This is Jarod. He likes having his belly brush...</td>\n",
       "      <td>NaN</td>\n",
       "      <td>NaN</td>\n",
       "      <td>NaN</td>\n",
       "      <td>https://twitter.com/dog_rates/status/852553447...</td>\n",
       "      <td>13</td>\n",
       "      <td>10</td>\n",
       "      <td>Jarod</td>\n",
       "      <td>None</td>\n",
       "      <td>None</td>\n",
       "      <td>None</td>\n",
       "      <td>None</td>\n",
       "    </tr>\n",
       "    <tr>\n",
       "      <th>2281</th>\n",
       "      <td>667369227918143488</td>\n",
       "      <td>NaN</td>\n",
       "      <td>NaN</td>\n",
       "      <td>2015-11-19 15:49:57 +0000</td>\n",
       "      <td>&lt;a href=\"http://twitter.com/download/iphone\" r...</td>\n",
       "      <td>Here we have a neat pup. Very white. Cool shad...</td>\n",
       "      <td>NaN</td>\n",
       "      <td>NaN</td>\n",
       "      <td>NaN</td>\n",
       "      <td>https://twitter.com/dog_rates/status/667369227...</td>\n",
       "      <td>10</td>\n",
       "      <td>10</td>\n",
       "      <td>None</td>\n",
       "      <td>None</td>\n",
       "      <td>None</td>\n",
       "      <td>None</td>\n",
       "      <td>None</td>\n",
       "    </tr>\n",
       "    <tr>\n",
       "      <th>1848</th>\n",
       "      <td>675798442703122432</td>\n",
       "      <td>NaN</td>\n",
       "      <td>NaN</td>\n",
       "      <td>2015-12-12 22:04:39 +0000</td>\n",
       "      <td>&lt;a href=\"http://twitter.com/download/iphone\" r...</td>\n",
       "      <td>This is Bernie. He just touched a boob for the...</td>\n",
       "      <td>NaN</td>\n",
       "      <td>NaN</td>\n",
       "      <td>NaN</td>\n",
       "      <td>https://twitter.com/dog_rates/status/675798442...</td>\n",
       "      <td>10</td>\n",
       "      <td>10</td>\n",
       "      <td>Bernie</td>\n",
       "      <td>None</td>\n",
       "      <td>None</td>\n",
       "      <td>None</td>\n",
       "      <td>None</td>\n",
       "    </tr>\n",
       "    <tr>\n",
       "      <th>2227</th>\n",
       "      <td>668268907921326080</td>\n",
       "      <td>NaN</td>\n",
       "      <td>NaN</td>\n",
       "      <td>2015-11-22 03:24:58 +0000</td>\n",
       "      <td>&lt;a href=\"http://twitter.com/download/iphone\" r...</td>\n",
       "      <td>Here we have an Azerbaijani Buttermilk named G...</td>\n",
       "      <td>NaN</td>\n",
       "      <td>NaN</td>\n",
       "      <td>NaN</td>\n",
       "      <td>https://twitter.com/dog_rates/status/668268907...</td>\n",
       "      <td>10</td>\n",
       "      <td>10</td>\n",
       "      <td>None</td>\n",
       "      <td>None</td>\n",
       "      <td>None</td>\n",
       "      <td>None</td>\n",
       "      <td>None</td>\n",
       "    </tr>\n",
       "    <tr>\n",
       "      <th>520</th>\n",
       "      <td>810254108431155201</td>\n",
       "      <td>NaN</td>\n",
       "      <td>NaN</td>\n",
       "      <td>2016-12-17 22:43:27 +0000</td>\n",
       "      <td>&lt;a href=\"http://twitter.com/download/iphone\" r...</td>\n",
       "      <td>This is Gus. He likes to be close to you, whic...</td>\n",
       "      <td>NaN</td>\n",
       "      <td>NaN</td>\n",
       "      <td>NaN</td>\n",
       "      <td>https://twitter.com/dog_rates/status/810254108...</td>\n",
       "      <td>12</td>\n",
       "      <td>10</td>\n",
       "      <td>Gus</td>\n",
       "      <td>None</td>\n",
       "      <td>None</td>\n",
       "      <td>None</td>\n",
       "      <td>None</td>\n",
       "    </tr>\n",
       "  </tbody>\n",
       "</table>\n",
       "</div>"
      ],
      "text/plain": [
       "                tweet_id  in_reply_to_status_id  in_reply_to_user_id  \\\n",
       "207   852553447878664193                    NaN                  NaN   \n",
       "2281  667369227918143488                    NaN                  NaN   \n",
       "1848  675798442703122432                    NaN                  NaN   \n",
       "2227  668268907921326080                    NaN                  NaN   \n",
       "520   810254108431155201                    NaN                  NaN   \n",
       "\n",
       "                      timestamp  \\\n",
       "207   2017-04-13 16:05:56 +0000   \n",
       "2281  2015-11-19 15:49:57 +0000   \n",
       "1848  2015-12-12 22:04:39 +0000   \n",
       "2227  2015-11-22 03:24:58 +0000   \n",
       "520   2016-12-17 22:43:27 +0000   \n",
       "\n",
       "                                                 source  \\\n",
       "207   <a href=\"http://twitter.com/download/iphone\" r...   \n",
       "2281  <a href=\"http://twitter.com/download/iphone\" r...   \n",
       "1848  <a href=\"http://twitter.com/download/iphone\" r...   \n",
       "2227  <a href=\"http://twitter.com/download/iphone\" r...   \n",
       "520   <a href=\"http://twitter.com/download/iphone\" r...   \n",
       "\n",
       "                                                   text  retweeted_status_id  \\\n",
       "207   This is Jarod. He likes having his belly brush...                  NaN   \n",
       "2281  Here we have a neat pup. Very white. Cool shad...                  NaN   \n",
       "1848  This is Bernie. He just touched a boob for the...                  NaN   \n",
       "2227  Here we have an Azerbaijani Buttermilk named G...                  NaN   \n",
       "520   This is Gus. He likes to be close to you, whic...                  NaN   \n",
       "\n",
       "      retweeted_status_user_id retweeted_status_timestamp  \\\n",
       "207                        NaN                        NaN   \n",
       "2281                       NaN                        NaN   \n",
       "1848                       NaN                        NaN   \n",
       "2227                       NaN                        NaN   \n",
       "520                        NaN                        NaN   \n",
       "\n",
       "                                          expanded_urls  rating_numerator  \\\n",
       "207   https://twitter.com/dog_rates/status/852553447...                13   \n",
       "2281  https://twitter.com/dog_rates/status/667369227...                10   \n",
       "1848  https://twitter.com/dog_rates/status/675798442...                10   \n",
       "2227  https://twitter.com/dog_rates/status/668268907...                10   \n",
       "520   https://twitter.com/dog_rates/status/810254108...                12   \n",
       "\n",
       "      rating_denominator    name doggo floofer pupper puppo  \n",
       "207                   10   Jarod  None    None   None  None  \n",
       "2281                  10    None  None    None   None  None  \n",
       "1848                  10  Bernie  None    None   None  None  \n",
       "2227                  10    None  None    None   None  None  \n",
       "520                   10     Gus  None    None   None  None  "
      ]
     },
     "execution_count": 289,
     "metadata": {},
     "output_type": "execute_result"
    }
   ],
   "source": [
    "arch.sample(5)"
   ]
  },
  {
   "cell_type": "markdown",
   "metadata": {},
   "source": [
    "Looks like there are missing dog names, Index 2294 is called None , this is a third completness issue"
   ]
  },
  {
   "cell_type": "code",
   "execution_count": 290,
   "metadata": {},
   "outputs": [
    {
     "data": {
      "text/plain": [
       "None         745\n",
       "a             55\n",
       "Charlie       12\n",
       "Cooper        11\n",
       "Lucy          11\n",
       "            ... \n",
       "Jimbo          1\n",
       "Billy          1\n",
       "Tater          1\n",
       "Scruffers      1\n",
       "Rey            1\n",
       "Name: name, Length: 957, dtype: int64"
      ]
     },
     "execution_count": 290,
     "metadata": {},
     "output_type": "execute_result"
    }
   ],
   "source": [
    "arch[\"name\"].value_counts()"
   ]
  },
  {
   "cell_type": "markdown",
   "metadata": {},
   "source": [
    "Now it's time to search for duplicates , from a the visual assessement it seems like there are 2 columns that can't allow duplicates , tweet_id and expanded_urls. So we're going to check them"
   ]
  },
  {
   "cell_type": "code",
   "execution_count": 291,
   "metadata": {},
   "outputs": [
    {
     "data": {
      "text/plain": [
       "False    2356\n",
       "Name: tweet_id, dtype: int64"
      ]
     },
     "execution_count": 291,
     "metadata": {},
     "output_type": "execute_result"
    }
   ],
   "source": [
    "arch['tweet_id'].duplicated().value_counts()"
   ]
  },
  {
   "cell_type": "code",
   "execution_count": 292,
   "metadata": {},
   "outputs": [
    {
     "data": {
      "text/plain": [
       "False    2219\n",
       "True      137\n",
       "Name: expanded_urls, dtype: int64"
      ]
     },
     "execution_count": 292,
     "metadata": {},
     "output_type": "execute_result"
    }
   ],
   "source": [
    "arch['expanded_urls'].duplicated().value_counts()"
   ]
  },
  {
   "cell_type": "markdown",
   "metadata": {},
   "source": [
    "Looks like we found our 4th issue, there are duplicates in (expanded_urls)"
   ]
  },
  {
   "cell_type": "markdown",
   "metadata": {},
   "source": [
    "## Data validity"
   ]
  },
  {
   "cell_type": "markdown",
   "metadata": {},
   "source": [
    "first step was to inspect the data set visually in excel , where several issues were found"
   ]
  },
  {
   "cell_type": "markdown",
   "metadata": {},
   "source": [
    "First issue were the retweeted and replies columns , which shouldn't be included according to the project details"
   ]
  },
  {
   "cell_type": "markdown",
   "metadata": {},
   "source": [
    "second issue was the tweets where the denominator was more than 10 as demonstrated below"
   ]
  },
  {
   "cell_type": "code",
   "execution_count": 293,
   "metadata": {},
   "outputs": [
    {
     "data": {
      "text/plain": [
       "10     2333\n",
       "11        3\n",
       "50        3\n",
       "80        2\n",
       "20        2\n",
       "2         1\n",
       "16        1\n",
       "40        1\n",
       "70        1\n",
       "15        1\n",
       "90        1\n",
       "110       1\n",
       "120       1\n",
       "130       1\n",
       "150       1\n",
       "170       1\n",
       "7         1\n",
       "0         1\n",
       "Name: rating_denominator, dtype: int64"
      ]
     },
     "execution_count": 293,
     "metadata": {},
     "output_type": "execute_result"
    }
   ],
   "source": [
    "arch['rating_denominator'].value_counts()"
   ]
  },
  {
   "cell_type": "markdown",
   "metadata": {},
   "source": [
    "According to project details, a denominator should be 10 "
   ]
  },
  {
   "cell_type": "markdown",
   "metadata": {},
   "source": [
    "Third problem, according to the archives info , we notice that the data type of the \"timestamp\" columns is object rather than date time "
   ]
  },
  {
   "cell_type": "markdown",
   "metadata": {},
   "source": [
    "## Data accuracy "
   ]
  },
  {
   "cell_type": "markdown",
   "metadata": {},
   "source": [
    "Another issue discovered by visual assessement and confirmed programmatically is the numerator values"
   ]
  },
  {
   "cell_type": "code",
   "execution_count": 294,
   "metadata": {},
   "outputs": [
    {
     "data": {
      "text/plain": [
       "12      558\n",
       "11      464\n",
       "10      461\n",
       "13      351\n",
       "9       158\n",
       "8       102\n",
       "7        55\n",
       "14       54\n",
       "5        37\n",
       "6        32\n",
       "3        19\n",
       "4        17\n",
       "1         9\n",
       "2         9\n",
       "420       2\n",
       "0         2\n",
       "15        2\n",
       "75        2\n",
       "80        1\n",
       "20        1\n",
       "24        1\n",
       "26        1\n",
       "44        1\n",
       "50        1\n",
       "60        1\n",
       "165       1\n",
       "84        1\n",
       "88        1\n",
       "144       1\n",
       "182       1\n",
       "143       1\n",
       "666       1\n",
       "960       1\n",
       "1776      1\n",
       "17        1\n",
       "27        1\n",
       "45        1\n",
       "99        1\n",
       "121       1\n",
       "204       1\n",
       "Name: rating_numerator, dtype: int64"
      ]
     },
     "execution_count": 294,
     "metadata": {},
     "output_type": "execute_result"
    }
   ],
   "source": [
    "arch[\"rating_numerator\"].value_counts()"
   ]
  },
  {
   "cell_type": "markdown",
   "metadata": {},
   "source": [
    "Some numerators are clearly a mistake like 1776"
   ]
  },
  {
   "cell_type": "markdown",
   "metadata": {},
   "source": [
    "Another accuracy issue is dog names being generic english words , like a or an"
   ]
  },
  {
   "cell_type": "code",
   "execution_count": 295,
   "metadata": {},
   "outputs": [
    {
     "data": {
      "text/plain": [
       "None         745\n",
       "a             55\n",
       "Charlie       12\n",
       "Cooper        11\n",
       "Lucy          11\n",
       "            ... \n",
       "Jimbo          1\n",
       "Billy          1\n",
       "Tater          1\n",
       "Scruffers      1\n",
       "Rey            1\n",
       "Name: name, Length: 957, dtype: int64"
      ]
     },
     "execution_count": 295,
     "metadata": {},
     "output_type": "execute_result"
    }
   ],
   "source": [
    "arch[\"name\"].value_counts()"
   ]
  },
  {
   "cell_type": "markdown",
   "metadata": {},
   "source": [
    "## Data ambuigity"
   ]
  },
  {
   "cell_type": "markdown",
   "metadata": {},
   "source": [
    "While the source columns doesn't have issues pretaining to our four dimensions , it's ambigious in the sense that there no information that be easily extracted from it in its current form."
   ]
  },
  {
   "cell_type": "markdown",
   "metadata": {},
   "source": [
    "## Data Tidiness "
   ]
  },
  {
   "cell_type": "markdown",
   "metadata": {},
   "source": [
    "First tideness issue is the 4 dog types columns, it's one variable taking 4 columns instead of 1"
   ]
  },
  {
   "cell_type": "markdown",
   "metadata": {},
   "source": [
    "Second issue is the irrelevant retweets and replies columns which will be empty after removing the retweets and replies, those columns should be removed "
   ]
  },
  {
   "cell_type": "markdown",
   "metadata": {},
   "source": [
    "Third and last issue is that all the 3 datasets should be combined since they all describe the same observational unit. A tweet"
   ]
  },
  {
   "cell_type": "markdown",
   "metadata": {},
   "source": [
    "# Data cleaning"
   ]
  },
  {
   "cell_type": "markdown",
   "metadata": {},
   "source": [
    "## Clean the data set : Quality "
   ]
  },
  {
   "cell_type": "markdown",
   "metadata": {},
   "source": [
    "### Completness issues"
   ]
  },
  {
   "cell_type": "markdown",
   "metadata": {},
   "source": [
    "#### issue #1"
   ]
  },
  {
   "cell_type": "markdown",
   "metadata": {},
   "source": [
    "##### define"
   ]
  },
  {
   "cell_type": "markdown",
   "metadata": {},
   "source": [
    "the first issue is the missing tweets in the image predection data set , it's either because the images are missing in those tweets or the tweet's images were not processed. However since we don't have access to the algorithm and the dog type is essential to our analysis the only thing we can do is to drop the entries present in the archives but don't have a record in the prediction data set "
   ]
  },
  {
   "cell_type": "markdown",
   "metadata": {},
   "source": [
    "##### code"
   ]
  },
  {
   "cell_type": "code",
   "execution_count": 296,
   "metadata": {},
   "outputs": [],
   "source": [
    "set1=set(arch[\"tweet_id\"])\n",
    "set2=set(prd[\"tweet_id\"])\n",
    "set3=set1-set2\n",
    "miss=list(set3)\n",
    "clean=arch\n",
    "for iid in miss:\n",
    "    clean.drop(arch.index[arch['tweet_id']==iid],inplace=True)\n",
    "clean.reset_index(drop=True,inplace=True)"
   ]
  },
  {
   "cell_type": "markdown",
   "metadata": {},
   "source": [
    "##### test"
   ]
  },
  {
   "cell_type": "markdown",
   "metadata": {},
   "source": [
    "after inspection, both the main archive dataframe and the prediction dataframe have the same column "
   ]
  },
  {
   "cell_type": "code",
   "execution_count": 297,
   "metadata": {
    "scrolled": false
   },
   "outputs": [
    {
     "name": "stdout",
     "output_type": "stream",
     "text": [
      "<class 'pandas.core.frame.DataFrame'>\n",
      "RangeIndex: 2075 entries, 0 to 2074\n",
      "Data columns (total 17 columns):\n",
      " #   Column                      Non-Null Count  Dtype  \n",
      "---  ------                      --------------  -----  \n",
      " 0   tweet_id                    2075 non-null   int64  \n",
      " 1   in_reply_to_status_id       23 non-null     float64\n",
      " 2   in_reply_to_user_id         23 non-null     float64\n",
      " 3   timestamp                   2075 non-null   object \n",
      " 4   source                      2075 non-null   object \n",
      " 5   text                        2075 non-null   object \n",
      " 6   retweeted_status_id         81 non-null     float64\n",
      " 7   retweeted_status_user_id    81 non-null     float64\n",
      " 8   retweeted_status_timestamp  81 non-null     object \n",
      " 9   expanded_urls               2075 non-null   object \n",
      " 10  rating_numerator            2075 non-null   int64  \n",
      " 11  rating_denominator          2075 non-null   int64  \n",
      " 12  name                        2075 non-null   object \n",
      " 13  doggo                       2075 non-null   object \n",
      " 14  floofer                     2075 non-null   object \n",
      " 15  pupper                      2075 non-null   object \n",
      " 16  puppo                       2075 non-null   object \n",
      "dtypes: float64(4), int64(3), object(10)\n",
      "memory usage: 275.7+ KB\n"
     ]
    }
   ],
   "source": [
    "clean.info()"
   ]
  },
  {
   "cell_type": "markdown",
   "metadata": {},
   "source": [
    "#### issue #2 and #3"
   ]
  },
  {
   "cell_type": "markdown",
   "metadata": {},
   "source": [
    "##### define"
   ]
  },
  {
   "cell_type": "markdown",
   "metadata": {},
   "source": [
    "The second and third completness was the missing URLs and the duplicates, this may be caused by the fact that reply or retweets don't have expanded urls , however the numbers didn't add up. Fortunately we didn't have to worry about it very much, as the problem was solved after solving the first completness issue."
   ]
  },
  {
   "cell_type": "markdown",
   "metadata": {},
   "source": [
    "##### test"
   ]
  },
  {
   "cell_type": "code",
   "execution_count": 298,
   "metadata": {
    "scrolled": true
   },
   "outputs": [
    {
     "name": "stdout",
     "output_type": "stream",
     "text": [
      "<class 'pandas.core.frame.DataFrame'>\n",
      "RangeIndex: 2075 entries, 0 to 2074\n",
      "Data columns (total 17 columns):\n",
      " #   Column                      Non-Null Count  Dtype  \n",
      "---  ------                      --------------  -----  \n",
      " 0   tweet_id                    2075 non-null   int64  \n",
      " 1   in_reply_to_status_id       23 non-null     float64\n",
      " 2   in_reply_to_user_id         23 non-null     float64\n",
      " 3   timestamp                   2075 non-null   object \n",
      " 4   source                      2075 non-null   object \n",
      " 5   text                        2075 non-null   object \n",
      " 6   retweeted_status_id         81 non-null     float64\n",
      " 7   retweeted_status_user_id    81 non-null     float64\n",
      " 8   retweeted_status_timestamp  81 non-null     object \n",
      " 9   expanded_urls               2075 non-null   object \n",
      " 10  rating_numerator            2075 non-null   int64  \n",
      " 11  rating_denominator          2075 non-null   int64  \n",
      " 12  name                        2075 non-null   object \n",
      " 13  doggo                       2075 non-null   object \n",
      " 14  floofer                     2075 non-null   object \n",
      " 15  pupper                      2075 non-null   object \n",
      " 16  puppo                       2075 non-null   object \n",
      "dtypes: float64(4), int64(3), object(10)\n",
      "memory usage: 275.7+ KB\n"
     ]
    }
   ],
   "source": [
    "clean.info()"
   ]
  },
  {
   "cell_type": "code",
   "execution_count": 299,
   "metadata": {},
   "outputs": [
    {
     "data": {
      "text/plain": [
       "False    2075\n",
       "Name: expanded_urls, dtype: int64"
      ]
     },
     "execution_count": 299,
     "metadata": {},
     "output_type": "execute_result"
    }
   ],
   "source": [
    "arch['expanded_urls'].duplicated().value_counts()"
   ]
  },
  {
   "cell_type": "markdown",
   "metadata": {},
   "source": [
    "#### issue #4"
   ]
  },
  {
   "cell_type": "markdown",
   "metadata": {},
   "source": [
    "The fourth completness problem , perhaps the most challenging is the missing dog names, this problem will be discussed and handled later"
   ]
  },
  {
   "cell_type": "markdown",
   "metadata": {},
   "source": [
    "### Validity issues"
   ]
  },
  {
   "cell_type": "markdown",
   "metadata": {},
   "source": [
    "##### define"
   ]
  },
  {
   "cell_type": "markdown",
   "metadata": {},
   "source": [
    "#### issue #1"
   ]
  },
  {
   "cell_type": "markdown",
   "metadata": {},
   "source": [
    "##### define"
   ]
  },
  {
   "cell_type": "markdown",
   "metadata": {},
   "source": [
    "the date format is object and not date time , this will render the date useless in analysis, we will convert the type "
   ]
  },
  {
   "cell_type": "markdown",
   "metadata": {},
   "source": [
    "##### code"
   ]
  },
  {
   "cell_type": "markdown",
   "metadata": {},
   "source": [
    "first we're going to remove the +0000"
   ]
  },
  {
   "cell_type": "code",
   "execution_count": 300,
   "metadata": {},
   "outputs": [],
   "source": [
    "for i in range(2075):\n",
    "    new=clean.loc[i,'timestamp'].split(\"+\")[0]\n",
    "    clean.loc[i,'timestamp']=new"
   ]
  },
  {
   "cell_type": "markdown",
   "metadata": {},
   "source": [
    "then convert it to date_time type"
   ]
  },
  {
   "cell_type": "code",
   "execution_count": 301,
   "metadata": {},
   "outputs": [],
   "source": [
    "clean.loc[:,'timestamp']=pd.to_datetime(clean['timestamp'])"
   ]
  },
  {
   "cell_type": "markdown",
   "metadata": {},
   "source": [
    "##### test"
   ]
  },
  {
   "cell_type": "code",
   "execution_count": 302,
   "metadata": {
    "scrolled": true
   },
   "outputs": [
    {
     "name": "stdout",
     "output_type": "stream",
     "text": [
      "<class 'pandas.core.frame.DataFrame'>\n",
      "RangeIndex: 2075 entries, 0 to 2074\n",
      "Data columns (total 17 columns):\n",
      " #   Column                      Non-Null Count  Dtype         \n",
      "---  ------                      --------------  -----         \n",
      " 0   tweet_id                    2075 non-null   int64         \n",
      " 1   in_reply_to_status_id       23 non-null     float64       \n",
      " 2   in_reply_to_user_id         23 non-null     float64       \n",
      " 3   timestamp                   2075 non-null   datetime64[ns]\n",
      " 4   source                      2075 non-null   object        \n",
      " 5   text                        2075 non-null   object        \n",
      " 6   retweeted_status_id         81 non-null     float64       \n",
      " 7   retweeted_status_user_id    81 non-null     float64       \n",
      " 8   retweeted_status_timestamp  81 non-null     object        \n",
      " 9   expanded_urls               2075 non-null   object        \n",
      " 10  rating_numerator            2075 non-null   int64         \n",
      " 11  rating_denominator          2075 non-null   int64         \n",
      " 12  name                        2075 non-null   object        \n",
      " 13  doggo                       2075 non-null   object        \n",
      " 14  floofer                     2075 non-null   object        \n",
      " 15  pupper                      2075 non-null   object        \n",
      " 16  puppo                       2075 non-null   object        \n",
      "dtypes: datetime64[ns](1), float64(4), int64(3), object(9)\n",
      "memory usage: 275.7+ KB\n"
     ]
    }
   ],
   "source": [
    "clean.info()"
   ]
  },
  {
   "cell_type": "markdown",
   "metadata": {},
   "source": [
    "#### issue #2"
   ]
  },
  {
   "cell_type": "markdown",
   "metadata": {},
   "source": [
    "##### define"
   ]
  },
  {
   "cell_type": "markdown",
   "metadata": {},
   "source": [
    "We are only concerned with orignial tweets so we have to remove any replies or retweets"
   ]
  },
  {
   "cell_type": "markdown",
   "metadata": {},
   "source": [
    "##### code"
   ]
  },
  {
   "cell_type": "markdown",
   "metadata": {},
   "source": [
    "first we select the not null rows"
   ]
  },
  {
   "cell_type": "code",
   "execution_count": 303,
   "metadata": {},
   "outputs": [],
   "source": [
    "boole1=pd.notnull(clean['retweeted_status_id'])\n",
    "lst1=clean[boole1]['tweet_id']\n",
    "boole2=pd.notnull(clean['in_reply_to_status_id'])\n",
    "lst2=clean[boole2]['tweet_id']"
   ]
  },
  {
   "cell_type": "markdown",
   "metadata": {},
   "source": [
    "then we remove the ID's and do the same for replies"
   ]
  },
  {
   "cell_type": "code",
   "execution_count": 304,
   "metadata": {},
   "outputs": [],
   "source": [
    "for iid in lst1:\n",
    "    clean.drop(arch.index[arch['tweet_id']==iid],inplace=True)\n",
    "for iid in lst2:\n",
    "    clean.drop(arch.index[arch['tweet_id']==iid],inplace=True)"
   ]
  },
  {
   "cell_type": "markdown",
   "metadata": {},
   "source": [
    "then we remove all the columns and reset the index"
   ]
  },
  {
   "cell_type": "code",
   "execution_count": 305,
   "metadata": {},
   "outputs": [],
   "source": [
    "clean.drop(['in_reply_to_status_id','in_reply_to_user_id','retweeted_status_id','retweeted_status_user_id','retweeted_status_timestamp'],axis=1,inplace=True)\n",
    "clean.reset_index(drop=True,inplace=True)"
   ]
  },
  {
   "cell_type": "markdown",
   "metadata": {},
   "source": [
    "##### test"
   ]
  },
  {
   "cell_type": "code",
   "execution_count": 306,
   "metadata": {
    "scrolled": true
   },
   "outputs": [
    {
     "name": "stdout",
     "output_type": "stream",
     "text": [
      "<class 'pandas.core.frame.DataFrame'>\n",
      "RangeIndex: 1971 entries, 0 to 1970\n",
      "Data columns (total 12 columns):\n",
      " #   Column              Non-Null Count  Dtype         \n",
      "---  ------              --------------  -----         \n",
      " 0   tweet_id            1971 non-null   int64         \n",
      " 1   timestamp           1971 non-null   datetime64[ns]\n",
      " 2   source              1971 non-null   object        \n",
      " 3   text                1971 non-null   object        \n",
      " 4   expanded_urls       1971 non-null   object        \n",
      " 5   rating_numerator    1971 non-null   int64         \n",
      " 6   rating_denominator  1971 non-null   int64         \n",
      " 7   name                1971 non-null   object        \n",
      " 8   doggo               1971 non-null   object        \n",
      " 9   floofer             1971 non-null   object        \n",
      " 10  pupper              1971 non-null   object        \n",
      " 11  puppo               1971 non-null   object        \n",
      "dtypes: datetime64[ns](1), int64(3), object(8)\n",
      "memory usage: 184.9+ KB\n"
     ]
    }
   ],
   "source": [
    "clean.info()"
   ]
  },
  {
   "cell_type": "markdown",
   "metadata": {},
   "source": [
    "#### issue #3"
   ]
  },
  {
   "cell_type": "markdown",
   "metadata": {},
   "source": [
    "##### define "
   ]
  },
  {
   "cell_type": "markdown",
   "metadata": {},
   "source": [
    "it's agreed upon that denominator should be 10 , however 17 entries didn't follow this criteria , since it's a small number we can easily inspect the text of these tweets and correct if needed manually"
   ]
  },
  {
   "cell_type": "code",
   "execution_count": 307,
   "metadata": {},
   "outputs": [
    {
     "data": {
      "text/plain": [
       "10     1954\n",
       "50        3\n",
       "80        2\n",
       "11        2\n",
       "170       1\n",
       "150       1\n",
       "120       1\n",
       "110       1\n",
       "90        1\n",
       "70        1\n",
       "40        1\n",
       "20        1\n",
       "7         1\n",
       "2         1\n",
       "Name: rating_denominator, dtype: int64"
      ]
     },
     "execution_count": 307,
     "metadata": {},
     "output_type": "execute_result"
    }
   ],
   "source": [
    "clean['rating_denominator'].value_counts()"
   ]
  },
  {
   "cell_type": "markdown",
   "metadata": {},
   "source": [
    "##### code"
   ]
  },
  {
   "cell_type": "code",
   "execution_count": 308,
   "metadata": {},
   "outputs": [
    {
     "name": "stdout",
     "output_type": "stream",
     "text": [
      "320    820690176645140481\n",
      "Name: tweet_id, dtype: int64\n",
      "\n",
      "\n",
      "The floofs have been released I repeat the floofs have been released. 84/70 https://t.co/NIYC820tmd\n",
      "-----------------\n",
      "382    810984652412424192\n",
      "Name: tweet_id, dtype: int64\n",
      "\n",
      "\n",
      "Meet Sam. She smiles 24/7 &amp; secretly aspires to be a reindeer. \n",
      "Keep Sam smiling by clicking and sharing this link:\n",
      "https://t.co/98tB8y7y7t https://t.co/LouL5vdvxx\n",
      "-----------------\n",
      "658    758467244762497024\n",
      "Name: tweet_id, dtype: int64\n",
      "\n",
      "\n",
      "Why does this never happen at my front door... 165/150 https://t.co/HmwrdfEfUE\n",
      "-----------------\n",
      "794    740373189193256964\n",
      "Name: tweet_id, dtype: int64\n",
      "\n",
      "\n",
      "After so many requests, this is Bretagne. She was the last surviving 9/11 search dog, and our second ever 14/10. RIP https://t.co/XAVDNDaVgQ\n",
      "-----------------\n",
      "842    731156023742988288\n",
      "Name: tweet_id, dtype: int64\n",
      "\n",
      "\n",
      "Say hello to this unbelievably well behaved squad of doggos. 204/170 would try to pet all at once https://t.co/yGQI3He3xv\n",
      "-----------------\n",
      "884    722974582966214656\n",
      "Name: tweet_id, dtype: int64\n",
      "\n",
      "\n",
      "Happy 4/20 from the squad! 13/10 for all https://t.co/eV1diwds8a\n",
      "-----------------\n",
      "918    716439118184652801\n",
      "Name: tweet_id, dtype: int64\n",
      "\n",
      "\n",
      "This is Bluebert. He just saw that both #FinalFur match ups are split 50/50. Amazed af. 11/10 https://t.co/Kky1DPG4iq\n",
      "-----------------\n",
      "939    713900603437621249\n",
      "Name: tweet_id, dtype: int64\n",
      "\n",
      "\n",
      "Happy Saturday here's 9 puppers on a bench. 99/90 good work everybody https://t.co/mpvaVxKmc1\n",
      "-----------------\n",
      "963    710658690886586372\n",
      "Name: tweet_id, dtype: int64\n",
      "\n",
      "\n",
      "Here's a brigade of puppers. All look very prepared for whatever happens next. 80/80 https://t.co/0eb7R1Om12\n",
      "-----------------\n",
      "981    709198395643068416\n",
      "Name: tweet_id, dtype: int64\n",
      "\n",
      "\n",
      "From left to right:\n",
      "Cletus, Jerome, Alejandro, Burp, &amp; Titson\n",
      "None know where camera is. 45/50 would hug all at once https://t.co/sedre1ivTK\n",
      "-----------------\n",
      "1045    704054845121142784\n",
      "Name: tweet_id, dtype: int64\n",
      "\n",
      "\n",
      "Here is a whole flock of puppers.  60/50 I'll take the lot https://t.co/9dpcw6MdWa\n",
      "-----------------\n",
      "1120    697463031882764288\n",
      "Name: tweet_id, dtype: int64\n",
      "\n",
      "\n",
      "Happy Wednesday here's a bucket of pups. 44/40 would pet all at once https://t.co/HppvrYuamZ\n",
      "-----------------\n",
      "1288    684222868335505415\n",
      "Name: tweet_id, dtype: int64\n",
      "\n",
      "\n",
      "Someone help the girl is being mugged. Several are distracting her while two steal her shoes. Clever puppers 121/110 https://t.co/1zfnTJLt55\n",
      "-----------------\n",
      "1313    682962037429899265\n",
      "Name: tweet_id, dtype: int64\n",
      "\n",
      "\n",
      "This is Darrel. He just robbed a 7/11 and is in a high speed police chase. Was just spotted by the helicopter 10/10 https://t.co/7EsP8LmSp5\n",
      "-----------------\n",
      "1420    677716515794329600\n",
      "Name: tweet_id, dtype: int64\n",
      "\n",
      "\n",
      "IT'S PUPPERGEDDON. Total of 144/120 ...I think https://t.co/ZanVtAtvIq\n",
      "-----------------\n",
      "1478    675853064436391936\n",
      "Name: tweet_id, dtype: int64\n",
      "\n",
      "\n",
      "Here we have an entire platoon of puppers. Total score: 88/80 would pet all at once https://t.co/y93p6FLvVw\n",
      "-----------------\n",
      "1950    666287406224695296\n",
      "Name: tweet_id, dtype: int64\n",
      "\n",
      "\n",
      "This is an Albanian 3 1/2 legged  Episcopalian. Loves well-polished hardwood flooring. Penis on the collar. 9/10 https://t.co/d9NcXFKwLv\n",
      "-----------------\n"
     ]
    }
   ],
   "source": [
    "index=[]\n",
    "for i in clean.loc[clean['rating_denominator'] != 10]['text']:\n",
    "    print(clean.loc[clean['text'] == i]['tweet_id'])\n",
    "    print(\"\\n\")\n",
    "    print(i)\n",
    "    print(\"-----------------\")\n",
    "    index.append(clean.index[clean['text']==i][0])"
   ]
  },
  {
   "cell_type": "markdown",
   "metadata": {},
   "source": [
    "After visual inspection , the following indexes had their ratings wrong , the rest is intentionally above 10 or doesn't have a rating at all, we will have to drop them so they don't ruin our analysis later \n",
    "\n",
    "index 794 : 14/10\n",
    "\n",
    "index 884 : 13/10   \n",
    "\n",
    "index 918 : 11/10\n",
    "\n",
    "index 1313: 10/10\n",
    "\n",
    "index 1950 : 9/10"
   ]
  },
  {
   "cell_type": "code",
   "execution_count": 309,
   "metadata": {},
   "outputs": [],
   "source": [
    "index_mod=[794,884,918,1313,1950]\n",
    "index_drop=list(set(index)-set(index_mod))\n",
    "num_mod=[14,13,11,10,9]"
   ]
  },
  {
   "cell_type": "code",
   "execution_count": 310,
   "metadata": {},
   "outputs": [],
   "source": [
    "clean.drop(index_drop,inplace=True)"
   ]
  },
  {
   "cell_type": "code",
   "execution_count": 311,
   "metadata": {},
   "outputs": [],
   "source": [
    "for i in range(5):\n",
    "    clean.loc[index_mod[i],'rating_numerator']=num_mod[i]\n",
    "    clean.loc[index_mod[i],'rating_denominator']=10\n",
    "clean.reset_index(drop=True,inplace=True)"
   ]
  },
  {
   "cell_type": "markdown",
   "metadata": {},
   "source": [
    "##### Test"
   ]
  },
  {
   "cell_type": "code",
   "execution_count": 312,
   "metadata": {},
   "outputs": [
    {
     "data": {
      "text/plain": [
       "10    1959\n",
       "Name: rating_denominator, dtype: int64"
      ]
     },
     "execution_count": 312,
     "metadata": {},
     "output_type": "execute_result"
    }
   ],
   "source": [
    "clean['rating_denominator'].value_counts()"
   ]
  },
  {
   "cell_type": "markdown",
   "metadata": {},
   "source": [
    "### Accuracy Issues"
   ]
  },
  {
   "cell_type": "markdown",
   "metadata": {},
   "source": [
    "#### issue #1"
   ]
  },
  {
   "cell_type": "markdown",
   "metadata": {},
   "source": [
    "##### define"
   ]
  },
  {
   "cell_type": "markdown",
   "metadata": {},
   "source": [
    "there are several numerators that are inaccurate , like 1776 out 10 , there are only 5 anomalies so we're going to visually inspect them"
   ]
  },
  {
   "cell_type": "code",
   "execution_count": 313,
   "metadata": {},
   "outputs": [
    {
     "data": {
      "text/plain": [
       "12      446\n",
       "10      418\n",
       "11      393\n",
       "13      254\n",
       "9       150\n",
       "8        95\n",
       "7        51\n",
       "14       34\n",
       "5        33\n",
       "6        32\n",
       "3        19\n",
       "4        15\n",
       "2         9\n",
       "1         4\n",
       "1776      1\n",
       "420       1\n",
       "26        1\n",
       "27        1\n",
       "75        1\n",
       "0         1\n",
       "Name: rating_numerator, dtype: int64"
      ]
     },
     "execution_count": 313,
     "metadata": {},
     "output_type": "execute_result"
    }
   ],
   "source": [
    "clean['rating_numerator'].value_counts()"
   ]
  },
  {
   "cell_type": "markdown",
   "metadata": {},
   "source": [
    "##### code"
   ]
  },
  {
   "cell_type": "code",
   "execution_count": 314,
   "metadata": {},
   "outputs": [
    {
     "name": "stdout",
     "output_type": "stream",
     "text": [
      "497    786709082849828864\n",
      "Name: tweet_id, dtype: int64\n",
      "-----------------\n",
      "This is Logan, the Chow who lived. He solemnly swears he's up to lots of good. H*ckin magical af 9.75/10 https://t.co/yBO5wuqaPS\n",
      "\n",
      "\n",
      "547    778027034220126208\n",
      "Name: tweet_id, dtype: int64\n",
      "-----------------\n",
      "This is Sophie. She's a Jubilant Bush Pupper. Super h*ckin rare. Appears at random just to smile at the locals. 11.27/10 would smile back https://t.co/QFaUiIHxHq\n",
      "\n",
      "\n",
      "719    749981277374128128\n",
      "Name: tweet_id, dtype: int64\n",
      "-----------------\n",
      "This is Atticus. He's quite simply America af. 1776/10 https://t.co/GRXwMxLBkh\n",
      "\n",
      "\n",
      "1349    680494726643068929\n",
      "Name: tweet_id, dtype: int64\n",
      "-----------------\n",
      "Here we have uncovered an entire battalion of holiday puppers. Average of 11.26/10 https://t.co/eNm2S6p9BD\n",
      "\n",
      "\n",
      "1684    670842764863651840\n",
      "Name: tweet_id, dtype: int64\n",
      "-----------------\n",
      "After so many requests... here you go.\n",
      "\n",
      "Good dogg. 420/10 https://t.co/yfAAo1gdeY\n",
      "\n",
      "\n"
     ]
    }
   ],
   "source": [
    "index=[]\n",
    "for i in clean.loc[clean[\"rating_numerator\"]>15]['text']:\n",
    "    print(clean.loc[clean['text'] == i]['tweet_id'])\n",
    "    print(\"-----------------\")\n",
    "    print(i)\n",
    "    print(\"\\n\")\n",
    "    index.append(clean.index[clean['text']==i][0])"
   ]
  },
  {
   "cell_type": "markdown",
   "metadata": {},
   "source": [
    "after inspection we found out that some of the ratings are data entry errors and some tweets didn't have a ratings in them in the first place !\n",
    "\n",
    "we will correct any numerators that has an original rating in the tweet and drop the rest + the humorous one with 1776/10"
   ]
  },
  {
   "cell_type": "code",
   "execution_count": 315,
   "metadata": {},
   "outputs": [],
   "source": [
    "index_mod=[497,547,1349]\n",
    "index_num=[10,11,11]\n",
    "index_drop=list(set(index)-set(index_mod))\n",
    "clean.drop(index_drop,inplace=True)\n",
    "for i in range(3):\n",
    "    clean.loc[index_mod[i],'rating_numerator']=index_num[i]"
   ]
  },
  {
   "cell_type": "code",
   "execution_count": 316,
   "metadata": {},
   "outputs": [],
   "source": [
    "clean.reset_index(drop=True,inplace=True)"
   ]
  },
  {
   "cell_type": "markdown",
   "metadata": {},
   "source": [
    "##### test"
   ]
  },
  {
   "cell_type": "code",
   "execution_count": 317,
   "metadata": {
    "scrolled": true
   },
   "outputs": [
    {
     "data": {
      "text/plain": [
       "12    446\n",
       "10    419\n",
       "11    395\n",
       "13    254\n",
       "9     150\n",
       "8      95\n",
       "7      51\n",
       "14     34\n",
       "5      33\n",
       "6      32\n",
       "3      19\n",
       "4      15\n",
       "2       9\n",
       "1       4\n",
       "0       1\n",
       "Name: rating_numerator, dtype: int64"
      ]
     },
     "execution_count": 317,
     "metadata": {},
     "output_type": "execute_result"
    }
   ],
   "source": [
    "clean['rating_numerator'].value_counts()"
   ]
  },
  {
   "cell_type": "markdown",
   "metadata": {},
   "source": [
    "#### issue #2"
   ]
  },
  {
   "cell_type": "markdown",
   "metadata": {},
   "source": [
    "##### define"
   ]
  },
  {
   "cell_type": "markdown",
   "metadata": {},
   "source": [
    "the second accuracy problem is the dogs named \"a\" , after visual inspection of some cases, the cause of the problem is the function used to extract the name , it assumes that every tweet starts with \"this is\" and then name , so it parses the word after \"is\" , so in the cases where it's written \"this is a dog\" for example, it thinks that a is the name. After further inspection, we categorized the tweets with no names into 4 types:\n",
    "\n",
    "1- the tweet actually doesn't include a name , in this case it will be left as None \n",
    "\n",
    "2- the tweet has a name but there is no keyword before, in this case it's very difficult to extract and better better be left as None since we're not using name in our analysis \n",
    "\n",
    "3- the name is after the word \"named\" in this case , it will be extracted \n",
    "\n",
    "4- the name is after the word \"name is\" in this case , it will be extracted"
   ]
  },
  {
   "cell_type": "markdown",
   "metadata": {},
   "source": [
    "##### code"
   ]
  },
  {
   "cell_type": "code",
   "execution_count": 318,
   "metadata": {},
   "outputs": [],
   "source": [
    "names=[]\n",
    "name_in=[]\n",
    "for text in clean.loc[(clean['name']=='a')|(clean['name']=='an')|(clean['name']=='getting')|(clean['name']=='by')|(clean['name']=='such')|(clean['name']=='my')]['text']:\n",
    "    if \"named\" in text.split(\" \"):\n",
    "        name_in.append(clean.loc[clean['text']==text].index[0])\n",
    "        name =(text.split(\" \").index(\"named\"))+1\n",
    "        names.append(text.split(\" \")[name])"
   ]
  },
  {
   "cell_type": "markdown",
   "metadata": {},
   "source": [
    "an getting by such  my"
   ]
  },
  {
   "cell_type": "code",
   "execution_count": 319,
   "metadata": {
    "scrolled": true
   },
   "outputs": [],
   "source": [
    "for i in range(len(names)):\n",
    "    clean.loc[name_in[i],'name']=names[i]"
   ]
  },
  {
   "cell_type": "code",
   "execution_count": 320,
   "metadata": {},
   "outputs": [],
   "source": [
    "names=[]\n",
    "name_in=[]\n",
    "for text in clean.loc[(clean['name']=='a')|(clean['name']=='an')|(clean['name']=='getting')|(clean['name']=='by')|(clean['name']=='such')|(clean['name']=='my')]['text']:\n",
    "    if \"name\" in text.split(\" \"):\n",
    "        name_in.append(clean.loc[clean['text']==text].index[0])\n",
    "        name =(text.split(\" \").index(\"name\"))+2\n",
    "        names.append(text.split(\" \")[name])"
   ]
  },
  {
   "cell_type": "code",
   "execution_count": 321,
   "metadata": {},
   "outputs": [],
   "source": [
    "for i in range(len(names)):\n",
    "    clean.loc[name_in[i],'name']=names[i]"
   ]
  },
  {
   "cell_type": "code",
   "execution_count": 322,
   "metadata": {},
   "outputs": [],
   "source": [
    "names=[]\n",
    "name_in=[]\n",
    "for text in clean.loc[clean['name']=='None']['text']:\n",
    "    if \"named\" in text.split(\" \"):\n",
    "        name_in.append(clean.loc[clean['text']==text].index[0])\n",
    "        name =(text.split(\" \").index(\"named\"))+1\n",
    "        names.append(text.split(\" \")[name])"
   ]
  },
  {
   "cell_type": "code",
   "execution_count": 323,
   "metadata": {},
   "outputs": [],
   "source": [
    "for i in range(len(names)):\n",
    "    clean.loc[name_in[i],'name']=names[i]"
   ]
  },
  {
   "cell_type": "code",
   "execution_count": 324,
   "metadata": {},
   "outputs": [],
   "source": [
    "names=[]\n",
    "name_in=[]\n",
    "for text in clean.loc[clean['name']=='None']['text']:\n",
    "    if \"named\" in text.split(\" \"):\n",
    "        name_in.append(clean.loc[clean['text']==text].index[0])\n",
    "        name =(text.split(\" \").index(\"name\"))+2\n",
    "        names.append(text.split(\" \")[name])"
   ]
  },
  {
   "cell_type": "code",
   "execution_count": 325,
   "metadata": {},
   "outputs": [],
   "source": [
    "for i in range(len(names)):\n",
    "    clean.loc[name_in[i],'name']=names[i]"
   ]
  },
  {
   "cell_type": "markdown",
   "metadata": {},
   "source": [
    "After extracting every name possible, it's time to turn the remaining \"a\" to None "
   ]
  },
  {
   "cell_type": "code",
   "execution_count": 326,
   "metadata": {},
   "outputs": [],
   "source": [
    " for i in clean.loc[(clean['name']=='a')|(clean['name']=='an')|(clean['name']=='getting')|(clean['name']=='by')|(clean['name']=='such')|(clean['name']=='my')].index:\n",
    "        clean.loc[i,'name']='None'"
   ]
  },
  {
   "cell_type": "markdown",
   "metadata": {},
   "source": [
    "##### test"
   ]
  },
  {
   "cell_type": "code",
   "execution_count": 327,
   "metadata": {},
   "outputs": [
    {
     "data": {
      "text/plain": [
       "None       554\n",
       "Charlie     11\n",
       "Cooper      10\n",
       "Lucy        10\n",
       "Oliver      10\n",
       "          ... \n",
       "Kenzie       1\n",
       "Bert         1\n",
       "Jordy        1\n",
       "Tess         1\n",
       "Rey          1\n",
       "Name: name, Length: 953, dtype: int64"
      ]
     },
     "execution_count": 327,
     "metadata": {},
     "output_type": "execute_result"
    }
   ],
   "source": [
    "clean['name'].value_counts()"
   ]
  },
  {
   "cell_type": "markdown",
   "metadata": {},
   "source": [
    "### Ambiguity Issues"
   ]
  },
  {
   "cell_type": "markdown",
   "metadata": {},
   "source": [
    "#### issue #1 "
   ]
  },
  {
   "cell_type": "markdown",
   "metadata": {},
   "source": [
    "##### define "
   ]
  },
  {
   "cell_type": "markdown",
   "metadata": {},
   "source": [
    "The source column has no apparent data quality problems pretaining to our 4 dimensions, however, it's ambigiuos as it doesn't deliver any real information in this form, we will fix this by turning the link into a simple 2 words source "
   ]
  },
  {
   "cell_type": "code",
   "execution_count": 328,
   "metadata": {},
   "outputs": [
    {
     "data": {
      "text/plain": [
       "<a href=\"http://twitter.com/download/iphone\" rel=\"nofollow\">Twitter for iPhone</a>     1919\n",
       "<a href=\"http://twitter.com\" rel=\"nofollow\">Twitter Web Client</a>                       28\n",
       "<a href=\"https://about.twitter.com/products/tweetdeck\" rel=\"nofollow\">TweetDeck</a>      10\n",
       "Name: source, dtype: int64"
      ]
     },
     "execution_count": 328,
     "metadata": {},
     "output_type": "execute_result"
    }
   ],
   "source": [
    "clean['source'].value_counts()"
   ]
  },
  {
   "cell_type": "markdown",
   "metadata": {},
   "source": [
    "##### code"
   ]
  },
  {
   "cell_type": "code",
   "execution_count": 329,
   "metadata": {},
   "outputs": [],
   "source": [
    "for i in range(len(clean['source'])):\n",
    "    if clean['source'][i]=='<a href=\"http://twitter.com/download/iphone\" rel=\"nofollow\">Twitter for iPhone</a>':\n",
    "        clean.loc[i,'source']='Twitter for iphone'\n",
    "    elif clean['source'][i] == '<a href=\"http://twitter.com\" rel=\"nofollow\">Twitter Web Client</a>':\n",
    "        clean.loc[i,'source']='Twitter web client'\n",
    "    else :\n",
    "        clean.loc[i,'source']='TweetDeck'\n",
    "        "
   ]
  },
  {
   "cell_type": "markdown",
   "metadata": {},
   "source": [
    "##### test"
   ]
  },
  {
   "cell_type": "code",
   "execution_count": 330,
   "metadata": {},
   "outputs": [
    {
     "data": {
      "text/plain": [
       "Twitter for iphone    1919\n",
       "Twitter web client      28\n",
       "TweetDeck               10\n",
       "Name: source, dtype: int64"
      ]
     },
     "execution_count": 330,
     "metadata": {},
     "output_type": "execute_result"
    }
   ],
   "source": [
    "clean['source'].value_counts()"
   ]
  },
  {
   "cell_type": "markdown",
   "metadata": {},
   "source": [
    "## Tideness issues"
   ]
  },
  {
   "cell_type": "markdown",
   "metadata": {},
   "source": [
    "### issue #1"
   ]
  },
  {
   "cell_type": "markdown",
   "metadata": {},
   "source": [
    "#### define"
   ]
  },
  {
   "cell_type": "markdown",
   "metadata": {},
   "source": [
    "the 4 dog type columns describe the same variable : \"dog type\" , they should be summarized to 1 columns"
   ]
  },
  {
   "cell_type": "markdown",
   "metadata": {},
   "source": [
    "#### code"
   ]
  },
  {
   "cell_type": "code",
   "execution_count": 331,
   "metadata": {},
   "outputs": [
    {
     "name": "stdout",
     "output_type": "stream",
     "text": [
      "<class 'pandas.core.frame.DataFrame'>\n",
      "RangeIndex: 1957 entries, 0 to 1956\n",
      "Data columns (total 12 columns):\n",
      " #   Column              Non-Null Count  Dtype         \n",
      "---  ------              --------------  -----         \n",
      " 0   tweet_id            1957 non-null   int64         \n",
      " 1   timestamp           1957 non-null   datetime64[ns]\n",
      " 2   source              1957 non-null   object        \n",
      " 3   text                1957 non-null   object        \n",
      " 4   expanded_urls       1957 non-null   object        \n",
      " 5   rating_numerator    1957 non-null   int64         \n",
      " 6   rating_denominator  1957 non-null   int64         \n",
      " 7   name                1957 non-null   object        \n",
      " 8   doggo               1957 non-null   object        \n",
      " 9   floofer             1957 non-null   object        \n",
      " 10  pupper              1957 non-null   object        \n",
      " 11  puppo               1957 non-null   object        \n",
      "dtypes: datetime64[ns](1), int64(3), object(8)\n",
      "memory usage: 183.6+ KB\n"
     ]
    }
   ],
   "source": [
    "clean.info()"
   ]
  },
  {
   "cell_type": "code",
   "execution_count": 332,
   "metadata": {},
   "outputs": [],
   "source": [
    "dog_type=[]\n",
    "for i in range(len(clean['tweet_id'])):\n",
    "    if clean.loc[i,'doggo']== 'doggo':\n",
    "        dog_type.append('doggo')\n",
    "        continue\n",
    "    elif clean.loc[i,'floofer']=='floofer':\n",
    "        dog_type.append('floofer')\n",
    "        continue\n",
    "    elif clean.loc[i,'pupper'] == 'pupper':\n",
    "        dog_type.append('pupper')\n",
    "        continue\n",
    "    elif clean.loc[i,'puppo'] == 'puppo':\n",
    "        dog_type.append('puppo')\n",
    "        continue\n",
    "    else :\n",
    "        dog_type.append('Not classified')\n",
    "    "
   ]
  },
  {
   "cell_type": "code",
   "execution_count": 333,
   "metadata": {},
   "outputs": [],
   "source": [
    "clean['dog type']=dog_type"
   ]
  },
  {
   "cell_type": "code",
   "execution_count": 334,
   "metadata": {},
   "outputs": [],
   "source": [
    "clean.drop(['doggo','floofer','pupper','puppo'],axis=1,inplace=True)"
   ]
  },
  {
   "cell_type": "markdown",
   "metadata": {},
   "source": [
    "#### test"
   ]
  },
  {
   "cell_type": "code",
   "execution_count": 335,
   "metadata": {},
   "outputs": [
    {
     "name": "stdout",
     "output_type": "stream",
     "text": [
      "<class 'pandas.core.frame.DataFrame'>\n",
      "RangeIndex: 1957 entries, 0 to 1956\n",
      "Data columns (total 9 columns):\n",
      " #   Column              Non-Null Count  Dtype         \n",
      "---  ------              --------------  -----         \n",
      " 0   tweet_id            1957 non-null   int64         \n",
      " 1   timestamp           1957 non-null   datetime64[ns]\n",
      " 2   source              1957 non-null   object        \n",
      " 3   text                1957 non-null   object        \n",
      " 4   expanded_urls       1957 non-null   object        \n",
      " 5   rating_numerator    1957 non-null   int64         \n",
      " 6   rating_denominator  1957 non-null   int64         \n",
      " 7   name                1957 non-null   object        \n",
      " 8   dog type            1957 non-null   object        \n",
      "dtypes: datetime64[ns](1), int64(3), object(5)\n",
      "memory usage: 137.7+ KB\n"
     ]
    }
   ],
   "source": [
    "clean.info()"
   ]
  },
  {
   "cell_type": "markdown",
   "metadata": {},
   "source": [
    "### issue #2"
   ]
  },
  {
   "cell_type": "markdown",
   "metadata": {},
   "source": [
    "#### define"
   ]
  },
  {
   "cell_type": "markdown",
   "metadata": {},
   "source": [
    "All the dataframes actuall describe the same observational unit , a tweet about a dog, so it should all be in 1 data set , however, we will only copy the dog breed with the highest confidence along with the confidence interval."
   ]
  },
  {
   "cell_type": "markdown",
   "metadata": {},
   "source": [
    "#### code"
   ]
  },
  {
   "cell_type": "markdown",
   "metadata": {},
   "source": [
    "First we add 2 columns from the prediction dataset, one represents the dog breed with the highest confidence level and the second is its confidence level "
   ]
  },
  {
   "cell_type": "code",
   "execution_count": 336,
   "metadata": {
    "scrolled": true
   },
   "outputs": [],
   "source": [
    "clean['dog breed']=\"\"\n",
    "clean['confidence']=\"\""
   ]
  },
  {
   "cell_type": "code",
   "execution_count": 337,
   "metadata": {},
   "outputs": [],
   "source": [
    "dog_breed=[]\n",
    "conf=[]\n",
    "iden=[]\n",
    "for iid in  prd['tweet_id']:\n",
    "    if list(prd.loc[prd['tweet_id']==iid]['p1_dog'])[0]:\n",
    "        dog_breed.append(list(prd.loc[prd['tweet_id']==iid]['p1'])[0])\n",
    "        conf.append(list(prd.loc[prd['tweet_id']==iid]['p1_conf'])[0])\n",
    "        iden.append(iid)\n",
    "        continue \n",
    "    if list(prd.loc[prd['tweet_id']==iid]['p2_dog'])[0]:\n",
    "        dog_breed.append(list(prd.loc[prd['tweet_id']==iid]['p2'])[0])\n",
    "        conf.append(list(prd.loc[prd['tweet_id']==iid]['p2_conf'])[0])\n",
    "        iden.append(iid)\n",
    "        continue\n",
    "    if list(prd.loc[prd['tweet_id']==iid]['p3_dog'])[0]:\n",
    "        dog_breed.append(list(prd.loc[prd['tweet_id']==iid]['p3'])[0])\n",
    "        conf.append(list(prd.loc[prd['tweet_id']==iid]['p3_conf'])[0])\n",
    "        iden.append(iid)\n",
    "        continue\n",
    "    else :\n",
    "        dog_breed.append('inconclusive')\n",
    "        conf.append(0)\n",
    "        iden.append(iid)\n",
    "    "
   ]
  },
  {
   "cell_type": "code",
   "execution_count": 338,
   "metadata": {},
   "outputs": [],
   "source": [
    "for i in range(len(clean)):\n",
    "    if clean.loc[i,'tweet_id'] in iden:\n",
    "        x=iden.index(clean.loc[i,'tweet_id'])\n",
    "        clean.loc[i,'dog breed']=dog_breed[x]\n",
    "        clean.loc[i,'confidence']=conf[x]"
   ]
  },
  {
   "cell_type": "markdown",
   "metadata": {},
   "source": [
    "then we add to 2 last columns for the retweets and likes "
   ]
  },
  {
   "cell_type": "code",
   "execution_count": 339,
   "metadata": {},
   "outputs": [],
   "source": [
    "clean['Favorite count']=\"\"\n",
    "clean['Retweet']=\"\""
   ]
  },
  {
   "cell_type": "code",
   "execution_count": 340,
   "metadata": {},
   "outputs": [],
   "source": [
    "iden=list(rates['ID'])\n",
    "RE=list(rates['retweets'])\n",
    "like=list(rates['like'])\n",
    "for i in range(len(clean)):\n",
    "    if clean.loc[i,'tweet_id'] in iden:\n",
    "        x=iden.index(clean.loc[i,'tweet_id'])\n",
    "        clean.loc[i,'Favorite count']=like[x]\n",
    "        clean.loc[i,'Retweet']=RE[x]"
   ]
  },
  {
   "cell_type": "markdown",
   "metadata": {},
   "source": [
    "#### test"
   ]
  },
  {
   "cell_type": "code",
   "execution_count": 341,
   "metadata": {},
   "outputs": [
    {
     "data": {
      "text/html": [
       "<div>\n",
       "<style scoped>\n",
       "    .dataframe tbody tr th:only-of-type {\n",
       "        vertical-align: middle;\n",
       "    }\n",
       "\n",
       "    .dataframe tbody tr th {\n",
       "        vertical-align: top;\n",
       "    }\n",
       "\n",
       "    .dataframe thead th {\n",
       "        text-align: right;\n",
       "    }\n",
       "</style>\n",
       "<table border=\"1\" class=\"dataframe\">\n",
       "  <thead>\n",
       "    <tr style=\"text-align: right;\">\n",
       "      <th></th>\n",
       "      <th>tweet_id</th>\n",
       "      <th>timestamp</th>\n",
       "      <th>source</th>\n",
       "      <th>text</th>\n",
       "      <th>expanded_urls</th>\n",
       "      <th>rating_numerator</th>\n",
       "      <th>rating_denominator</th>\n",
       "      <th>name</th>\n",
       "      <th>dog type</th>\n",
       "      <th>dog breed</th>\n",
       "      <th>confidence</th>\n",
       "      <th>Favorite count</th>\n",
       "      <th>Retweet</th>\n",
       "    </tr>\n",
       "  </thead>\n",
       "  <tbody>\n",
       "    <tr>\n",
       "      <th>811</th>\n",
       "      <td>737445876994609152</td>\n",
       "      <td>2016-05-31 00:49:32</td>\n",
       "      <td>Twitter for iphone</td>\n",
       "      <td>Just wanted to share this super rare Rainbow F...</td>\n",
       "      <td>https://twitter.com/dog_rates/status/737445876...</td>\n",
       "      <td>13</td>\n",
       "      <td>10</td>\n",
       "      <td>None</td>\n",
       "      <td>floofer</td>\n",
       "      <td>Samoyed</td>\n",
       "      <td>0.400568</td>\n",
       "      <td>11302</td>\n",
       "      <td>5048</td>\n",
       "    </tr>\n",
       "    <tr>\n",
       "      <th>1227</th>\n",
       "      <td>687494652870668288</td>\n",
       "      <td>2016-01-14 04:41:12</td>\n",
       "      <td>Twitter for iphone</td>\n",
       "      <td>This is Marq. He stole this car. 7/10 wtf Marq...</td>\n",
       "      <td>https://twitter.com/dog_rates/status/687494652...</td>\n",
       "      <td>7</td>\n",
       "      <td>10</td>\n",
       "      <td>Marq</td>\n",
       "      <td>Not classified</td>\n",
       "      <td>Rottweiler</td>\n",
       "      <td>0.391471</td>\n",
       "      <td>2104</td>\n",
       "      <td>654</td>\n",
       "    </tr>\n",
       "    <tr>\n",
       "      <th>911</th>\n",
       "      <td>716802964044845056</td>\n",
       "      <td>2016-04-04 01:41:58</td>\n",
       "      <td>Twitter for iphone</td>\n",
       "      <td>This is Link. He struggles with couches. 10/10...</td>\n",
       "      <td>https://twitter.com/dog_rates/status/716802964...</td>\n",
       "      <td>10</td>\n",
       "      <td>10</td>\n",
       "      <td>Link</td>\n",
       "      <td>Not classified</td>\n",
       "      <td>malinois</td>\n",
       "      <td>0.619577</td>\n",
       "      <td>4627</td>\n",
       "      <td>1317</td>\n",
       "    </tr>\n",
       "    <tr>\n",
       "      <th>1734</th>\n",
       "      <td>670338931251150849</td>\n",
       "      <td>2015-11-27 20:30:30</td>\n",
       "      <td>Twitter for iphone</td>\n",
       "      <td>This is Butters. He's not ready for Thanksgivi...</td>\n",
       "      <td>https://twitter.com/dog_rates/status/670338931...</td>\n",
       "      <td>10</td>\n",
       "      <td>10</td>\n",
       "      <td>Butters</td>\n",
       "      <td>Not classified</td>\n",
       "      <td>cairn</td>\n",
       "      <td>0.245033</td>\n",
       "      <td>451</td>\n",
       "      <td>122</td>\n",
       "    </tr>\n",
       "    <tr>\n",
       "      <th>823</th>\n",
       "      <td>735137028879360001</td>\n",
       "      <td>2016-05-24 15:55:00</td>\n",
       "      <td>Twitter for iphone</td>\n",
       "      <td>Meet Buckley. His family &amp;amp; some neighbors ...</td>\n",
       "      <td>https://twitter.com/dog_rates/status/735137028...</td>\n",
       "      <td>9</td>\n",
       "      <td>10</td>\n",
       "      <td>Buckley</td>\n",
       "      <td>pupper</td>\n",
       "      <td>Walker_hound</td>\n",
       "      <td>0.413535</td>\n",
       "      <td>3428</td>\n",
       "      <td>1092</td>\n",
       "    </tr>\n",
       "  </tbody>\n",
       "</table>\n",
       "</div>"
      ],
      "text/plain": [
       "                tweet_id           timestamp              source  \\\n",
       "811   737445876994609152 2016-05-31 00:49:32  Twitter for iphone   \n",
       "1227  687494652870668288 2016-01-14 04:41:12  Twitter for iphone   \n",
       "911   716802964044845056 2016-04-04 01:41:58  Twitter for iphone   \n",
       "1734  670338931251150849 2015-11-27 20:30:30  Twitter for iphone   \n",
       "823   735137028879360001 2016-05-24 15:55:00  Twitter for iphone   \n",
       "\n",
       "                                                   text  \\\n",
       "811   Just wanted to share this super rare Rainbow F...   \n",
       "1227  This is Marq. He stole this car. 7/10 wtf Marq...   \n",
       "911   This is Link. He struggles with couches. 10/10...   \n",
       "1734  This is Butters. He's not ready for Thanksgivi...   \n",
       "823   Meet Buckley. His family &amp; some neighbors ...   \n",
       "\n",
       "                                          expanded_urls  rating_numerator  \\\n",
       "811   https://twitter.com/dog_rates/status/737445876...                13   \n",
       "1227  https://twitter.com/dog_rates/status/687494652...                 7   \n",
       "911   https://twitter.com/dog_rates/status/716802964...                10   \n",
       "1734  https://twitter.com/dog_rates/status/670338931...                10   \n",
       "823   https://twitter.com/dog_rates/status/735137028...                 9   \n",
       "\n",
       "      rating_denominator     name        dog type     dog breed confidence  \\\n",
       "811                   10     None         floofer       Samoyed   0.400568   \n",
       "1227                  10     Marq  Not classified    Rottweiler   0.391471   \n",
       "911                   10     Link  Not classified      malinois   0.619577   \n",
       "1734                  10  Butters  Not classified         cairn   0.245033   \n",
       "823                   10  Buckley          pupper  Walker_hound   0.413535   \n",
       "\n",
       "     Favorite count Retweet  \n",
       "811           11302    5048  \n",
       "1227           2104     654  \n",
       "911            4627    1317  \n",
       "1734            451     122  \n",
       "823            3428    1092  "
      ]
     },
     "execution_count": 341,
     "metadata": {},
     "output_type": "execute_result"
    }
   ],
   "source": [
    "clean.sample(5)"
   ]
  },
  {
   "cell_type": "markdown",
   "metadata": {},
   "source": [
    "# Saving the new dataset"
   ]
  },
  {
   "cell_type": "code",
   "execution_count": 342,
   "metadata": {},
   "outputs": [],
   "source": [
    "if not os.path.isfile(\"twitter_archive_master.csv\"):\n",
    "    clean.to_csv(\"twitter_archive_master.csv\",index = False)"
   ]
  },
  {
   "cell_type": "markdown",
   "metadata": {},
   "source": [
    "# Analysis"
   ]
  },
  {
   "cell_type": "markdown",
   "metadata": {},
   "source": [
    "first we need to know which month has the most None dog names to conduct our analysis and then use the same loop again to know the total number of entries in this month "
   ]
  },
  {
   "cell_type": "markdown",
   "metadata": {},
   "source": [
    "total number of entries:"
   ]
  },
  {
   "cell_type": "code",
   "execution_count": 343,
   "metadata": {},
   "outputs": [],
   "source": [
    "dicti={}\n",
    "for years in [2016,2017]:\n",
    "    dicti[years]={}\n",
    "    for months in range(1,12,1):\n",
    "        dicti[years][months]={}\n",
    "        summ=0\n",
    "        for i in clean['timestamp']:\n",
    "            if i.year==years:\n",
    "                if i.month == months:\n",
    "                    if list(clean.loc[clean['timestamp']==i]['name'])[0] != 'a' : summ+=1\n",
    "            dicti[years][months]=summ\n",
    "                    "
   ]
  },
  {
   "cell_type": "code",
   "execution_count": 344,
   "metadata": {},
   "outputs": [
    {
     "data": {
      "text/plain": [
       "{2016: {1: 165,\n",
       "  2: 106,\n",
       "  3: 115,\n",
       "  4: 54,\n",
       "  5: 55,\n",
       "  6: 79,\n",
       "  7: 86,\n",
       "  8: 59,\n",
       "  9: 63,\n",
       "  10: 65,\n",
       "  11: 52},\n",
       " 2017: {1: 65,\n",
       "  2: 64,\n",
       "  3: 47,\n",
       "  4: 40,\n",
       "  5: 42,\n",
       "  6: 44,\n",
       "  7: 49,\n",
       "  8: 2,\n",
       "  9: 0,\n",
       "  10: 0,\n",
       "  11: 0}}"
      ]
     },
     "execution_count": 344,
     "metadata": {},
     "output_type": "execute_result"
    }
   ],
   "source": [
    "dicti"
   ]
  },
  {
   "cell_type": "markdown",
   "metadata": {},
   "source": [
    "Total number of tweets with dog names :"
   ]
  },
  {
   "cell_type": "code",
   "execution_count": 345,
   "metadata": {},
   "outputs": [],
   "source": [
    "dicti={}\n",
    "for years in [2016,2017]:\n",
    "    dicti[years]={}\n",
    "    for months in range(1,12,1):\n",
    "        dicti[years][months]={}\n",
    "        summ=0\n",
    "        for i in clean['timestamp']:\n",
    "            if i.year==years:\n",
    "                if i.month == months:\n",
    "                    if list(clean.loc[clean['timestamp']==i]['name'])[0] != 'None' : summ+=1\n",
    "            dicti[years][months]=summ\n",
    "                    "
   ]
  },
  {
   "cell_type": "code",
   "execution_count": 346,
   "metadata": {},
   "outputs": [
    {
     "data": {
      "text/plain": [
       "{2016: {1: 108,\n",
       "  2: 73,\n",
       "  3: 86,\n",
       "  4: 42,\n",
       "  5: 39,\n",
       "  6: 52,\n",
       "  7: 62,\n",
       "  8: 53,\n",
       "  9: 45,\n",
       "  10: 59,\n",
       "  11: 43},\n",
       " 2017: {1: 51,\n",
       "  2: 57,\n",
       "  3: 40,\n",
       "  4: 31,\n",
       "  5: 32,\n",
       "  6: 35,\n",
       "  7: 39,\n",
       "  8: 2,\n",
       "  9: 0,\n",
       "  10: 0,\n",
       "  11: 0}}"
      ]
     },
     "execution_count": 346,
     "metadata": {},
     "output_type": "execute_result"
    }
   ],
   "source": [
    "dicti"
   ]
  },
  {
   "cell_type": "markdown",
   "metadata": {},
   "source": [
    "months : 1 , 3 and 7 were chosen"
   ]
  },
  {
   "cell_type": "markdown",
   "metadata": {},
   "source": [
    "We will compare between the total number of favorite and retweets got by tweet with dog names vs tweets with no dog names"
   ]
  },
  {
   "cell_type": "markdown",
   "metadata": {},
   "source": [
    "first we get the indexes of tweets in 1 , 3 , 7 2016"
   ]
  },
  {
   "cell_type": "code",
   "execution_count": 347,
   "metadata": {},
   "outputs": [],
   "source": [
    "No_fav_3=0\n",
    "No_fav_1=0\n",
    "No_fav_7=0\n",
    "Na_fav_3=0\n",
    "Na_fav_1=0\n",
    "Na_fav_7=0\n",
    "for i in clean['timestamp']:\n",
    "    if i.year==2016:\n",
    "        if i.month==3:\n",
    "            if clean.loc[clean['timestamp']==i]['name'].item() == 'None':\n",
    "                No_fav_3+=clean.loc[clean['timestamp']==i]['Favorite count'].item()\n",
    "            else:\n",
    "                Na_fav_3+=clean.loc[clean['timestamp']==i]['Favorite count'].item()\n",
    "        if i.month==1:\n",
    "            if clean.loc[clean['timestamp']==i]['name'].item() == 'None':\n",
    "                No_fav_1+=clean.loc[clean['timestamp']==i]['Favorite count'].item()\n",
    "            else:\n",
    "                Na_fav_1+=clean.loc[clean['timestamp']==i]['Favorite count'].item()\n",
    "        if i.month==7:\n",
    "            if clean.loc[clean['timestamp']==i]['name'].item() == 'None':\n",
    "                No_fav_7+=clean.loc[clean['timestamp']==i]['Favorite count'].item()\n",
    "            else:\n",
    "                Na_fav_7+=clean.loc[clean['timestamp']==i]['Favorite count'].item()\n",
    "                \n",
    "No_fav_3/=29\n",
    "No_fav_1/=57\n",
    "No_fav_7/=24\n",
    "Na_fav_3/=86\n",
    "Na_fav_1/=108\n",
    "Na_fav_7/=62"
   ]
  },
  {
   "cell_type": "markdown",
   "metadata": {},
   "source": [
    "Same to get number of retweets"
   ]
  },
  {
   "cell_type": "code",
   "execution_count": 348,
   "metadata": {},
   "outputs": [],
   "source": [
    "No_re_3=0\n",
    "No_re_1=0\n",
    "No_re_7=0\n",
    "Na_re_3=0\n",
    "Na_re_1=0\n",
    "Na_re_7=0\n",
    "for i in clean['timestamp']:\n",
    "    if i.year==2016:\n",
    "        if i.month==3:\n",
    "            if clean.loc[clean['timestamp']==i]['name'].item() == 'None':\n",
    "                No_re_3+=clean.loc[clean['timestamp']==i]['Retweet'].item()\n",
    "            else:\n",
    "                Na_re_3+=clean.loc[clean['timestamp']==i]['Retweet'].item()\n",
    "        if i.month==1:\n",
    "            if clean.loc[clean['timestamp']==i]['name'].item() == 'None':\n",
    "                No_re_1+=clean.loc[clean['timestamp']==i]['Retweet'].item()\n",
    "            else:\n",
    "                Na_re_1+=clean.loc[clean['timestamp']==i]['Retweet'].item()\n",
    "        if i.month==7:\n",
    "            if clean.loc[clean['timestamp']==i]['name'].item() == 'None':\n",
    "                No_re_7+=clean.loc[clean['timestamp']==i]['Retweet'].item()\n",
    "            else:\n",
    "                Na_re_7+=clean.loc[clean['timestamp']==i]['Retweet'].item()\n",
    "No_re_3/=29\n",
    "No_re_1/=57\n",
    "No_re_7/=27\n",
    "Na_re_3/=86\n",
    "Na_re_1/=108\n",
    "Na_re_7/=62               \n"
   ]
  },
  {
   "cell_type": "markdown",
   "metadata": {},
   "source": [
    "Visulisation using histogram"
   ]
  },
  {
   "cell_type": "code",
   "execution_count": 349,
   "metadata": {},
   "outputs": [
    {
     "data": {
      "image/png": "[encoded data removed]",
      "text/plain": [
       "<Figure size 432x288 with 1 Axes>"
      ]
     },
     "metadata": {
      "needs_background": "light"
     },
     "output_type": "display_data"
    }
   ],
   "source": [
    "labels = ['January', 'March', 'July']\n",
    "None_Names = [No_fav_1, No_fav_3, No_fav_7]\n",
    "Names = [Na_fav_1, Na_fav_3, Na_fav_7]\n",
    "\n",
    "x = np.arange(len(labels))  # the label locations\n",
    "width = 0.35  # the width of the bars\n",
    "\n",
    "fig, ax = plt.subplots()\n",
    "rects1 = ax.bar(x - width/2, None_Names, width, label='tweets with No Names')\n",
    "rects2 = ax.bar(x + width/2, Names, width, label='tweets with Names')\n",
    "\n",
    "# Add some text for labels, title and custom x-axis tick labels, etc.\n",
    "ax.set_ylabel('Favorite count')\n",
    "ax.set_title('Total favorite count per month')\n",
    "ax.set_xticks(x)\n",
    "ax.set_xticklabels(labels)\n",
    "ax.legend()\n",
    "\n",
    "\n",
    "fig.tight_layout()\n",
    "plt.rcParams['figure.figsize'] = [10, 10]\n",
    "plt.show()"
   ]
  },
  {
   "cell_type": "code",
   "execution_count": 350,
   "metadata": {},
   "outputs": [
    {
     "data": {
      "image/png": "[encoded data removed]",
      "text/plain": [
       "<Figure size 720x720 with 1 Axes>"
      ]
     },
     "metadata": {
      "needs_background": "light"
     },
     "output_type": "display_data"
    }
   ],
   "source": [
    "labels = ['January', 'March', 'July']\n",
    "None_Names = [No_re_1, No_re_3, No_re_7]\n",
    "Names = [Na_re_1, Na_re_3, Na_re_7]\n",
    "\n",
    "x = np.arange(len(labels))  # the label locations\n",
    "width = 0.35  # the width of the bars\n",
    "\n",
    "fig, ax = plt.subplots()\n",
    "rects1 = ax.bar(x - width/2, None_Names, width, label='tweets with No Names')\n",
    "rects2 = ax.bar(x + width/2, Names, width, label='tweets with Names')\n",
    "\n",
    "# Add some text for labels, title and custom x-axis tick labels, etc.\n",
    "ax.set_ylabel('Retweet count')\n",
    "ax.set_title('Total Retweets count per month')\n",
    "ax.set_xticks(x)\n",
    "ax.set_xticklabels(labels)\n",
    "ax.legend()\n",
    "\n",
    "\n",
    "fig.tight_layout()\n",
    "plt.rcParams['figure.figsize'] = [10, 10]\n",
    "plt.show()"
   ]
  },
  {
   "cell_type": "markdown",
   "metadata": {},
   "source": [
    "## analysis 2 "
   ]
  },
  {
   "cell_type": "markdown",
   "metadata": {},
   "source": [
    "In this second analysis we will find out with is the most beloved dog breed , based on both average favorite per post and average rate"
   ]
  },
  {
   "cell_type": "code",
   "execution_count": 351,
   "metadata": {},
   "outputs": [],
   "source": [
    "dogs=set(clean['dog breed'])\n",
    "dogs=list(dogs)"
   ]
  },
  {
   "cell_type": "code",
   "execution_count": 352,
   "metadata": {},
   "outputs": [],
   "source": [
    "av_rate=[]\n",
    "av_count=[]\n",
    "for i in dogs:\n",
    "    av_rate.append(clean.loc[clean['dog breed']==i]['rating_numerator'].mean())\n",
    "    av_count.append(clean.loc[clean['dog breed']==i]['Favorite count'].mean())"
   ]
  },
  {
   "cell_type": "code",
   "execution_count": 353,
   "metadata": {},
   "outputs": [],
   "source": [
    "dff=pd.DataFrame({'dog':dogs,'average rate':av_rate,'average favorite count':av_count})"
   ]
  },
  {
   "cell_type": "code",
   "execution_count": 354,
   "metadata": {},
   "outputs": [
    {
     "data": {
      "image/png": "[encoded data removed]",
      "text/plain": [
       "<Figure size 720x720 with 1 Axes>"
      ]
     },
     "metadata": {
      "needs_background": "light"
     },
     "output_type": "display_data"
    }
   ],
   "source": [
    "plt.figure()\n",
    "\n",
    "plt.xlim((0,15))\n",
    "plt.ylim((800,25000))\n",
    "plt.axvline(x=10.5)\n",
    "plt.axhline(y=8167)\n",
    "plt.title('Favorite dog plot')\n",
    "plt.scatter(dff['average rate'],dff['average favorite count'],c='coral')\n",
    "plt.rcParams['figure.figsize'] = [10, 10]\n",
    "naming=dff.loc[((dff['average rate']>12)&(dff['average favorite count']>15500))|((dff['average rate']<8.5)&(dff['average favorite count']<2000))]\n",
    "for i in naming['average rate'].index:\n",
    "    plt.annotate(dff.loc[i,'dog'], (dff.loc[i,'average rate'], dff.loc[i,'average favorite count']))\n",
    "plt.show()"
   ]
  },
  {
   "cell_type": "markdown",
   "metadata": {},
   "source": [
    "## Analysis 3 "
   ]
  },
  {
   "cell_type": "markdown",
   "metadata": {},
   "source": [
    "In this analysis we will compare our data to a study published by \"Buffer\" on the best time to tweet to maximize exposure"
   ]
  },
  {
   "cell_type": "code",
   "execution_count": 355,
   "metadata": {},
   "outputs": [],
   "source": [
    "new=clean.copy()\n",
    "hour=[]\n",
    "months=[]\n",
    "years=[]\n",
    "for i in range(len(new)) :\n",
    "    months.append(new.loc[i,'timestamp'].month)\n",
    "    years.append(new.loc[i,'timestamp'].year)\n",
    "    hour.append(new.loc[i,'timestamp'].hour)\n",
    "   "
   ]
  },
  {
   "cell_type": "code",
   "execution_count": 356,
   "metadata": {},
   "outputs": [],
   "source": [
    "new['hour']=hour\n",
    "new['month']=months\n",
    "new['year']=years"
   ]
  },
  {
   "cell_type": "code",
   "execution_count": 357,
   "metadata": {},
   "outputs": [
    {
     "data": {
      "text/html": [
       "<div>\n",
       "<style scoped>\n",
       "    .dataframe tbody tr th:only-of-type {\n",
       "        vertical-align: middle;\n",
       "    }\n",
       "\n",
       "    .dataframe tbody tr th {\n",
       "        vertical-align: top;\n",
       "    }\n",
       "\n",
       "    .dataframe thead th {\n",
       "        text-align: right;\n",
       "    }\n",
       "</style>\n",
       "<table border=\"1\" class=\"dataframe\">\n",
       "  <thead>\n",
       "    <tr style=\"text-align: right;\">\n",
       "      <th></th>\n",
       "      <th>tweet_id</th>\n",
       "      <th>timestamp</th>\n",
       "      <th>source</th>\n",
       "      <th>text</th>\n",
       "      <th>expanded_urls</th>\n",
       "      <th>rating_numerator</th>\n",
       "      <th>rating_denominator</th>\n",
       "      <th>name</th>\n",
       "      <th>dog type</th>\n",
       "      <th>dog breed</th>\n",
       "      <th>confidence</th>\n",
       "      <th>Favorite count</th>\n",
       "      <th>Retweet</th>\n",
       "      <th>hour</th>\n",
       "      <th>month</th>\n",
       "      <th>year</th>\n",
       "    </tr>\n",
       "  </thead>\n",
       "  <tbody>\n",
       "    <tr>\n",
       "      <th>1767</th>\n",
       "      <td>669567591774625800</td>\n",
       "      <td>2015-11-25 17:25:28</td>\n",
       "      <td>Twitter for iphone</td>\n",
       "      <td>Meet Kollin. He's a Parakeetian Badminton from...</td>\n",
       "      <td>https://twitter.com/dog_rates/status/669567591...</td>\n",
       "      <td>9</td>\n",
       "      <td>10</td>\n",
       "      <td>Kollin</td>\n",
       "      <td>Not classified</td>\n",
       "      <td>Chihuahua</td>\n",
       "      <td>0.980511</td>\n",
       "      <td>248</td>\n",
       "      <td>61</td>\n",
       "      <td>17</td>\n",
       "      <td>11</td>\n",
       "      <td>2015</td>\n",
       "    </tr>\n",
       "  </tbody>\n",
       "</table>\n",
       "</div>"
      ],
      "text/plain": [
       "                tweet_id           timestamp              source  \\\n",
       "1767  669567591774625800 2015-11-25 17:25:28  Twitter for iphone   \n",
       "\n",
       "                                                   text  \\\n",
       "1767  Meet Kollin. He's a Parakeetian Badminton from...   \n",
       "\n",
       "                                          expanded_urls  rating_numerator  \\\n",
       "1767  https://twitter.com/dog_rates/status/669567591...                 9   \n",
       "\n",
       "      rating_denominator    name        dog type  dog breed confidence  \\\n",
       "1767                  10  Kollin  Not classified  Chihuahua   0.980511   \n",
       "\n",
       "     Favorite count Retweet  hour  month  year  \n",
       "1767            248      61    17     11  2015  "
      ]
     },
     "execution_count": 357,
     "metadata": {},
     "output_type": "execute_result"
    }
   ],
   "source": [
    "new.sample()"
   ]
  },
  {
   "cell_type": "code",
   "execution_count": 358,
   "metadata": {},
   "outputs": [],
   "source": [
    "ret=[]\n",
    "favi=[]\n",
    "for i in range(0,25,1):\n",
    "    x=new.loc[(new['year']==2017)&(new['hour']==i)]['Retweet'].values\n",
    "    y=new.loc[(new['year']==2017)&(new['hour']==i)]['Favorite count'].values\n",
    "    if len(x)==0:\n",
    "        ret.append(0)\n",
    "    else :\n",
    "        ret.append(x.mean())\n",
    "    if len(y)==0:\n",
    "        favi.append(0)\n",
    "    else:\n",
    "        favi.append(y.mean())"
   ]
  },
  {
   "cell_type": "code",
   "execution_count": 359,
   "metadata": {},
   "outputs": [],
   "source": [
    "clock=pd.DataFrame()\n",
    "clock['hour']=range(25)\n",
    "clock['retweet']=ret\n",
    "clock['favorite']=favi"
   ]
  },
  {
   "cell_type": "code",
   "execution_count": 360,
   "metadata": {},
   "outputs": [
    {
     "data": {
      "image/png": "[encoded data removed]",
      "text/plain": [
       "<Figure size 720x720 with 1 Axes>"
      ]
     },
     "metadata": {
      "needs_background": "light"
     },
     "output_type": "display_data"
    }
   ],
   "source": [
    "labels = clock['hour']\n",
    "ret = clock['retweet']\n",
    "\n",
    "\n",
    "x = np.arange(len(labels))  # the label locations\n",
    "width = 0.35  # the width of the bars\n",
    "\n",
    "fig, ax = plt.subplots()\n",
    "rects1 = ax.bar(x - width/2, ret, width)\n",
    "\n",
    "\n",
    "# Add some text for labels, title and custom x-axis tick labels, etc.\n",
    "ax.set_ylabel(' average Retweet count')\n",
    "ax.set_title('distribution of average retweet count at each hour')\n",
    "ax.set_xticks(x)\n",
    "ax.set_xticklabels(labels)\n",
    "\n",
    "\n",
    "\n",
    "fig.tight_layout()\n",
    "plt.rcParams['figure.figsize'] = [10, 10]\n",
    "plt.show()"
   ]
  },
  {
   "cell_type": "code",
   "execution_count": 361,
   "metadata": {},
   "outputs": [
    {
     "data": {
      "image/png": "[encoded data removed]",
      "text/plain": [
       "<Figure size 720x720 with 1 Axes>"
      ]
     },
     "metadata": {
      "needs_background": "light"
     },
     "output_type": "display_data"
    }
   ],
   "source": [
    "labels = clock['hour']\n",
    "ret = clock['favorite']\n",
    "\n",
    "\n",
    "x = np.arange(len(labels))  # the label locations\n",
    "width = 0.35  # the width of the bars\n",
    "\n",
    "fig, ax = plt.subplots()\n",
    "rects1 = ax.bar(x - width/2, ret, width)\n",
    "\n",
    "\n",
    "# Add some text for labels, title and custom x-axis tick labels, etc.\n",
    "ax.set_ylabel(' average favorite count')\n",
    "ax.set_title('distribution of average favorite count at each hour')\n",
    "ax.set_xticks(x)\n",
    "ax.set_xticklabels(labels)\n",
    "\n",
    "\n",
    "\n",
    "fig.tight_layout()\n",
    "plt.rcParams['figure.figsize'] = [10, 10]\n",
    "plt.show()"
   ]
  },
  {
   "cell_type": "code",
   "execution_count": null,
   "metadata": {},
   "outputs": [],
   "source": []
  },
  {
   "cell_type": "code",
   "execution_count": null,
   "metadata": {},
   "outputs": [],
   "source": []
  }
 ],
 "metadata": {
  "kernelspec": {
   "display_name": "Python 3",
   "language": "python",
   "name": "python3"
  },
  "language_info": {
   "codemirror_mode": {
    "name": "ipython",
    "version": 3
   },
   "file_extension": ".py",
   "mimetype": "text/x-python",
   "name": "python",
   "nbconvert_exporter": "python",
   "pygments_lexer": "ipython3",
   "version": "3.8.5"
  }
 },
 "nbformat": 4,
 "nbformat_minor": 4
}
